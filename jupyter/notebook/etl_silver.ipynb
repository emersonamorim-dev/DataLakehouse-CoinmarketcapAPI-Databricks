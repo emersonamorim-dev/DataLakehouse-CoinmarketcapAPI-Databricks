{
 "cells": [
  {
   "cell_type": "code",
   "execution_count": 1,
   "metadata": {},
   "outputs": [],
   "source": [
    "import pandas as pd\n",
    "import json\n",
    "import logging"
   ]
  },
  {
   "cell_type": "code",
   "execution_count": 2,
   "metadata": {},
   "outputs": [],
   "source": [
    "# Configurando o logging\n",
    "logging.basicConfig(level=logging.INFO, format='%(asctime)s - %(levelname)s - %(message)s')"
   ]
  },
  {
   "cell_type": "code",
   "execution_count": 3,
   "metadata": {},
   "outputs": [],
   "source": [
    "# Caminho para o arquivo CSV na camada bronze\n",
    "bronze_filepath = '/home/your-user/seu-diretorio/data/bronze/bronze_table.csv'"
   ]
  },
  {
   "cell_type": "code",
   "execution_count": 4,
   "metadata": {},
   "outputs": [],
   "source": [
    "# Função para ler e limpar os dados\n",
    "def process_bronze_data(filepath):\n",
    "    try:\n",
    "        logging.info(f'Lendo dados de {filepath}.')\n",
    "        data = pd.read_csv(filepath)\n",
    "        logging.info(f'Dados lidos com sucesso. {data.shape[0]} linhas, {data.shape[1]} colunas.')\n",
    "\n",
    "        # remover valores nulos, filtrar linhas, etc.\n",
    "\n",
    "        return data\n",
    "    except Exception as e:\n",
    "        logging.error(f'Erro ao ler e processar os dados: {e}')\n",
    "        return None"
   ]
  },
  {
   "cell_type": "code",
   "execution_count": null,
   "metadata": {},
   "outputs": [],
   "source": [
    "# Lendo e processando os dados da camada bronze\n",
    "bronze_data = process_bronze_data(bronze_filepath)"
   ]
  },
  {
   "cell_type": "code",
   "execution_count": null,
   "metadata": {},
   "outputs": [],
   "source": [
    "if bronze_data is not None and not bronze_data.empty:\n",
    "    # Caminho para o arquivo CSV na camada silver\n",
    "    silver_filepath_csv = '/home/your-user/seu-diretorio/data/silver/silver_data.csv'\n",
    "    silver_filepath_json = '/home/your-user/seu-diretorio//data/silver_data.json'\n",
    "\n",
    "    try:\n",
    "        # Salvando os dados limpos no CSV\n",
    "        bronze_data.to_csv(silver_filepath_csv, index=False)\n",
    "        logging.info(f'Dados limpos salvos em {silver_filepath_csv}.')\n",
    "\n",
    "        # Convertendo os dados limpos para JSON e salvando\n",
    "        bronze_data.to_json(silver_filepath_json, orient='records', lines=True)\n",
    "        logging.info(f'Dados limpos salvos em {silver_filepath_json}.')\n",
    "\n",
    "    except Exception as e:\n",
    "        logging.error(f'Erro ao salvar os dados limpos: {e}')\n",
    "\n",
    "else:\n",
    "    logging.error('Os dados da camada Bronze estão vazios ou não puderam ser lidos.')"
   ]
  }
 ],
 "metadata": {
  "kernelspec": {
   "display_name": ".env",
   "language": "python",
   "name": "python3"
  },
  "language_info": {
   "codemirror_mode": {
    "name": "ipython",
    "version": 3
   },
   "file_extension": ".py",
   "mimetype": "text/x-python",
   "name": "python",
   "nbconvert_exporter": "python",
   "pygments_lexer": "ipython3",
   "version": "3.8.10"
  }
 },
 "nbformat": 4,
 "nbformat_minor": 2
}
