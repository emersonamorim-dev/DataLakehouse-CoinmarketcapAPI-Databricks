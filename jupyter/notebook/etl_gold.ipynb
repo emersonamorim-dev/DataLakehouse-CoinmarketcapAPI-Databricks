{
 "cells": [
  {
   "cell_type": "code",
   "execution_count": 67,
   "metadata": {},
   "outputs": [],
   "source": [
    "import pandas as pd\n",
    "import json\n",
    "import logging\n",
    "from pymongo import MongoClient"
   ]
  },
  {
   "cell_type": "code",
   "execution_count": 68,
   "metadata": {},
   "outputs": [],
   "source": [
    "# Configurando o logging\n",
    "logging.basicConfig(level=logging.INFO, format='%(asctime)s - %(levelname)s - %(message)s')"
   ]
  },
  {
   "cell_type": "code",
   "execution_count": 69,
   "metadata": {},
   "outputs": [],
   "source": [
    "# Caminho para o arquivo JSON na camada Silver\n",
    "silver_filepath = '/home/your-user/projetos-datalake-coinmarketcap/data/silver/silver_data.json'"
   ]
  },
  {
   "cell_type": "code",
   "execution_count": 70,
   "metadata": {},
   "outputs": [],
   "source": [
    "# Função para ler os dados da camada Silver\n",
    "def read_silver_data(filepath):\n",
    "    try:\n",
    "        logging.info(f'Lendo dados de {filepath}.')\n",
    "        with open(filepath, 'r') as file:\n",
    "            data_str = file.read()\n",
    "            data_json = json.loads('[' + data_str.replace('}\\n{', '},\\n{') + ']')  \n",
    "            data = pd.DataFrame(data_json)  \n",
    "            logging.info(f'Dados lidos com sucesso. {data.shape[0]} linhas, {data.shape[1]} colunas.')\n",
    "            return data\n",
    "    except Exception as e:\n",
    "        logging.error(f'Erro ao ler os dados: {e}')\n",
    "        return None"
   ]
  },
  {
   "cell_type": "code",
   "execution_count": null,
   "metadata": {},
   "outputs": [],
   "source": [
    "# Lendo os dados da camada Silver\n",
    "silver_data = read_silver_data(silver_filepath)"
   ]
  },
  {
   "cell_type": "code",
   "execution_count": 72,
   "metadata": {},
   "outputs": [
    {
     "name": "stderr",
     "output_type": "stream",
     "text": [
      "2023-10-04 23:41:45,345 - INFO - Dados inseridos com sucesso na collection dataGold no MongoDB.\n"
     ]
    }
   ],
   "source": [
    "if silver_data is not None and not silver_data.empty:\n",
    "\n",
    "    # Conectar ao MongoDB\n",
    "    try:\n",
    "        client = MongoClient('mongodb://localhost:27017/')  \n",
    "        db = client['yourDB']  \n",
    "        collection = db['yourCollection'] \n",
    "\n",
    "        # Insere os dados na collection do MongoDB\n",
    "        collection.insert_many(silver_data.to_dict('records'))\n",
    "        logging.info(f'Dados inseridos com sucesso na collection {collection.name} no MongoDB.')\n",
    "\n",
    "    except Exception as e:\n",
    "        logging.error(f'Erro ao inserir dados no MongoDB: {e}')\n",
    "\n",
    "else:\n",
    "    logging.error('Os dados da camada Silver estão vazios ou não puderam ser lidos.')"
   ]
  }
 ],
 "metadata": {
  "kernelspec": {
   "display_name": ".env",
   "language": "python",
   "name": "python3"
  },
  "language_info": {
   "codemirror_mode": {
    "name": "ipython",
    "version": 3
   },
   "file_extension": ".py",
   "mimetype": "text/x-python",
   "name": "python",
   "nbconvert_exporter": "python",
   "pygments_lexer": "ipython3",
   "version": "3.8.10"
  }
 },
 "nbformat": 4,
 "nbformat_minor": 2
}
