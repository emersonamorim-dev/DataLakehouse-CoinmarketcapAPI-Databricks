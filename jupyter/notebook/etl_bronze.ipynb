{
 "cells": [
  {
   "cell_type": "code",
   "execution_count": 1,
   "metadata": {},
   "outputs": [],
   "source": [
    "import requests\n",
    "import pandas as pd"
   ]
  },
  {
   "cell_type": "code",
   "execution_count": 2,
   "metadata": {},
   "outputs": [],
   "source": [
    "# Substitua com sua API Key real\n",
    "API_KEY = 'YOUR_API_KEY'"
   ]
  },
  {
   "cell_type": "code",
   "execution_count": 3,
   "metadata": {},
   "outputs": [],
   "source": [
    "# Função para extrair dados da API do CoinMarketCap\n",
    "def extract_data_from_api():\n",
    "    url = 'https://pro-api.coinmarketcap.com/v1/cryptocurrency/listings/latest'\n",
    "    parameters = {\n",
    "        'start': '1',\n",
    "        'limit': '10',\n",
    "        'convert': 'USD'\n",
    "    }\n",
    "    headers = {\n",
    "        'Accepts': 'application/json',\n",
    "        'X-CMC_PRO_API_KEY': API_KEY,\n",
    "    }\n",
    "\n",
    "    response = requests.get(url, headers=headers, params=parameters)\n",
    "    if response.status_code == 200:\n",
    "        return response.json()\n",
    "    else:\n",
    "        print(f\"Error {response.status_code}: Failed to retrieve data from API\")\n",
    "        return None"
   ]
  },
  {
   "cell_type": "code",
   "execution_count": 4,
   "metadata": {},
   "outputs": [],
   "source": [
    "# Extrair dados\n",
    "data = extract_data_from_api()"
   ]
  },
  {
   "cell_type": "code",
   "execution_count": 5,
   "metadata": {},
   "outputs": [
    {
     "name": "stdout",
     "output_type": "stream",
     "text": [
      "     id         name symbol      slug  num_market_pairs  \\\n",
      "0     1      Bitcoin    BTC   bitcoin             10486   \n",
      "1  1027     Ethereum    ETH  ethereum              7490   \n",
      "2   825  Tether USDt   USDT    tether             63204   \n",
      "3  1839          BNB    BNB       bnb              1660   \n",
      "4    52          XRP    XRP       xrp              1108   \n",
      "5  3408         USDC   USDC  usd-coin             14326   \n",
      "6  5426       Solana    SOL    solana               534   \n",
      "7  2010      Cardano    ADA   cardano               942   \n",
      "8    74     Dogecoin   DOGE  dogecoin               803   \n",
      "9  1958         TRON    TRX      tron               847   \n",
      "\n",
      "                 date_added  \\\n",
      "0  2010-07-13T00:00:00.000Z   \n",
      "1  2015-08-07T00:00:00.000Z   \n",
      "2  2015-02-25T00:00:00.000Z   \n",
      "3  2017-07-25T00:00:00.000Z   \n",
      "4  2013-08-04T00:00:00.000Z   \n",
      "5  2018-10-08T00:00:00.000Z   \n",
      "6  2020-04-10T00:00:00.000Z   \n",
      "7  2017-10-01T00:00:00.000Z   \n",
      "8  2013-12-15T00:00:00.000Z   \n",
      "9  2017-09-13T00:00:00.000Z   \n",
      "\n",
      "                                                tags    max_supply  \\\n",
      "0  [mineable, pow, sha-256, store-of-value, state...  2.100000e+07   \n",
      "1  [pos, smart-contracts, ethereum-ecosystem, coi...           NaN   \n",
      "2  [payments, stablecoin, asset-backed-stablecoin...           NaN   \n",
      "3  [marketplace, centralized-exchange, payments, ...           NaN   \n",
      "4  [medium-of-exchange, enterprise-solutions, arr...  1.000000e+11   \n",
      "5  [medium-of-exchange, stablecoin, asset-backed-...           NaN   \n",
      "6  [pos, platform, solana-ecosystem, cms-holdings...           NaN   \n",
      "7  [dpos, pos, platform, research, smart-contract...  4.500000e+10   \n",
      "8  [mineable, pow, scrypt, medium-of-exchange, me...           NaN   \n",
      "9  [media, payments, tron-ecosystem, dwf-labs-por...           NaN   \n",
      "\n",
      "   circulating_supply  total_supply  infinite_supply  \\\n",
      "0        1.950564e+07  1.950564e+07            False   \n",
      "1        1.202444e+08  1.202444e+08             True   \n",
      "2        8.336690e+10  8.642571e+10             True   \n",
      "3        1.538460e+08  1.538460e+08            False   \n",
      "4        5.331236e+10  9.998840e+10            False   \n",
      "5        2.523118e+10  2.523118e+10            False   \n",
      "6        4.135688e+08  5.591587e+08             True   \n",
      "7        3.514466e+10  3.622901e+10            False   \n",
      "8        1.413001e+11  1.413001e+11             True   \n",
      "9        8.901856e+10  8.901867e+10             True   \n",
      "\n",
      "                                            platform  cmc_rank  \\\n",
      "0                                               None         1   \n",
      "1                                               None         2   \n",
      "2  {'id': 1027, 'name': 'Ethereum', 'symbol': 'ET...         3   \n",
      "3                                               None         4   \n",
      "4                                               None         5   \n",
      "5  {'id': 1027, 'name': 'Ethereum', 'symbol': 'ET...         6   \n",
      "6                                               None         7   \n",
      "7                                               None         8   \n",
      "8                                               None         9   \n",
      "9                                               None        10   \n",
      "\n",
      "   self_reported_circulating_supply  self_reported_market_cap tvl_ratio  \\\n",
      "0                               NaN                       NaN      None   \n",
      "1                               NaN                       NaN      None   \n",
      "2                               NaN                       NaN      None   \n",
      "3                               NaN                       NaN      None   \n",
      "4                               NaN                       NaN      None   \n",
      "5                               NaN                       NaN      None   \n",
      "6                               NaN                       NaN      None   \n",
      "7                               NaN                       NaN      None   \n",
      "8                               NaN                       NaN      None   \n",
      "9                      7.165966e+10              6.149220e+09      None   \n",
      "\n",
      "               last_updated                                              quote  \n",
      "0  2023-10-06T12:37:00.000Z  {'USD': {'price': 27533.065137262303, 'volume_...  \n",
      "1  2023-10-06T12:37:00.000Z  {'USD': {'price': 1626.213638693103, 'volume_2...  \n",
      "2  2023-10-06T12:37:00.000Z  {'USD': {'price': 1.0001522682647612, 'volume_...  \n",
      "3  2023-10-06T12:37:00.000Z  {'USD': {'price': 211.33483002744896, 'volume_...  \n",
      "4  2023-10-06T12:37:00.000Z  {'USD': {'price': 0.5201858820870765, 'volume_...  \n",
      "5  2023-10-06T12:37:00.000Z  {'USD': {'price': 0.9999408888903903, 'volume_...  \n",
      "6  2023-10-06T12:37:00.000Z  {'USD': {'price': 23.048825207434064, 'volume_...  \n",
      "7  2023-10-06T12:37:00.000Z  {'USD': {'price': 0.26235789053289665, 'volume...  \n",
      "8  2023-10-06T12:37:00.000Z  {'USD': {'price': 0.061013167108875443, 'volum...  \n",
      "9  2023-10-06T12:37:00.000Z  {'USD': {'price': 0.08581146055470124, 'volume...  \n"
     ]
    }
   ],
   "source": [
    "# Se dados foram extraídos com sucesso, transformá-los e carregá-los em um DataFrame Pandas\n",
    "if data:\n",
    "\n",
    "    # Converte dados para DataFrame Pandas\n",
    "    df = pd.DataFrame(data['data'])  \n",
    "\n",
    "    # Mostrar DataFrame\n",
    "    print(df)"
   ]
  },
  {
   "cell_type": "code",
   "execution_count": 6,
   "metadata": {},
   "outputs": [],
   "source": [
    "# Salvar DataFrame como um arquivo CSV, por exemplo\n",
    "\n",
    "df.to_csv('/home/your-user/seu-diretorio/data/bronze/bronze_table.csv', index=False)"
   ]
  }
 ],
 "metadata": {
  "kernelspec": {
   "display_name": ".env",
   "language": "python",
   "name": "python3"
  },
  "language_info": {
   "codemirror_mode": {
    "name": "ipython",
    "version": 3
   },
   "file_extension": ".py",
   "mimetype": "text/x-python",
   "name": "python",
   "nbconvert_exporter": "python",
   "pygments_lexer": "ipython3",
   "version": "3.8.10"
  },
  "orig_nbformat": 4
 },
 "nbformat": 4,
 "nbformat_minor": 2
}
